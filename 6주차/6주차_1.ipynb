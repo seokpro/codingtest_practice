{
  "nbformat": 4,
  "nbformat_minor": 0,
  "metadata": {
    "colab": {
      "provenance": []
    },
    "kernelspec": {
      "name": "python3",
      "display_name": "Python 3"
    },
    "language_info": {
      "name": "python"
    }
  },
  "cells": [
    {
      "cell_type": "code",
      "execution_count": 7,
      "metadata": {
        "colab": {
          "base_uri": "https://localhost:8080/"
        },
        "id": "NdyfIJKSSSwT",
        "outputId": "49957675-f365-46e9-8999-63fe39cd79dc"
      },
      "outputs": [
        {
          "output_type": "stream",
          "name": "stdout",
          "text": [
            "3\n",
            "4\n",
            "7\n",
            "7\n",
            "44\n",
            "10\n",
            "274\n"
          ]
        }
      ],
      "source": [
        "n = int(input()) #처음 받는 정수 n\n",
        "\n",
        "for i in range(n):\n",
        "  #정수 N을 입력받기\n",
        "  x = int(input())\n",
        "\n",
        "  # 앞서 계산된 결과를 저장하기 위한 DP 테이블 초기화\n",
        "  d = [0] * 11 #11을 곱한 이유는 x의 최댓값이 10이기 때문에\n",
        "\n",
        "  # 다이나믹 프로그래밍(Dynamic Programming) 진행\n",
        "  d[1] = 1\n",
        "  d[2] = 2\n",
        "  d[3] = 4\n",
        "  for i in range(4, x+1):\n",
        "    d[i] = (d[i-1] + d[i-2] + d[i-3])#원리는 i-1번째에는 +1, i-2번째에는 +2, i-3번째에는 +3을 하는 경우만 고려하기에 d[i-1]~d[i-3]을 덧셈\n",
        "\n",
        "  print(d[x])\n"
      ]
    },
    {
      "cell_type": "code",
      "source": [],
      "metadata": {
        "id": "8JH_jtiYRh3E"
      },
      "execution_count": null,
      "outputs": []
    }
  ]
}